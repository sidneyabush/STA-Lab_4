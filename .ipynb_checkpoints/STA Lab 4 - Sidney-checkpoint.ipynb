{
 "cells": [
  {
   "cell_type": "markdown",
   "metadata": {
    "collapsed": false
   },
   "source": [
    "# Agent Based Modelling"
   ]
  },
  {
   "cell_type": "markdown",
   "metadata": {},
   "source": [
    "Creates a model for tree death as a result of beetle kill infestations and moisture. "
   ]
  },
  {
   "cell_type": "code",
   "execution_count": 7,
   "metadata": {
    "collapsed": true
   },
   "outputs": [],
   "source": [
    "import random\n",
    "\n",
    "import numpy as np\n",
    "\n",
    "import matplotlib.pyplot as plt\n",
    "%matplotlib inline\n",
    "\n",
    "from mesa import Model, Agent\n",
    "from mesa.time import RandomActivation\n",
    "from mesa.space import Grid\n",
    "from mesa.datacollection import DataCollector\n",
    "from mesa.batchrunner import BatchRunner"
   ]
  },
  {
   "cell_type": "code",
   "execution_count": 29,
   "metadata": {
    "collapsed": false
   },
   "outputs": [],
   "source": [
    "# Create Beetle Kill Model \n",
    "\n",
    "class TreeCell(Agent):\n",
    "    '''\n",
    "    A tree cell.\n",
    "    \n",
    "    Attributes:\n",
    "        x, y: Grid coordinates\n",
    "        condition: Can be \"Alive\", \"Infested\", or \"Dead\"\n",
    "        unique_id: (x,y) tuple. \n",
    "    \n",
    "    unique_id isn't strictly necessary here, but it's good practice to give one to each\n",
    "    agent anyway.\n",
    "    '''\n",
    "    def __init__(self, model, pos):\n",
    "        '''\n",
    "        Create a new tree.\n",
    "        Args:\n",
    "            pos: The tree's coordinates on the grid. Used as the unique_id\n",
    "        '''\n",
    "        super().__init__(pos, model)\n",
    "        self.pos = pos\n",
    "        self.unique_id = pos\n",
    "        self.condition = \"Alive\"\n",
    "        \n",
    "    def step(self):\n",
    "        '''\n",
    "        If the tree is infested, spread it to alive trees nearby.\n",
    "        '''\n",
    "        if self.condition == \"Infested\":\n",
    "            neighbors = self.model.grid.get_neighbors(self.pos, moore=False)\n",
    "            for neighbor in neighbors:\n",
    "                if neighbor.condition == \"Alive\":\n",
    "                    neighbor.condition = \"Infested\"\n",
    "            self.condition = \"Dead\"\n",
    "            \n",
    "# Want to add in other factors that impact tree death - Tree is more susceptible to death if it is dry \n",
    "## Tree Cell can be wet, dry or average.\n",
    "\n",
    "class TreeMoisture(Agent):\n",
    "    '''\n",
    "    Moisture of Tree.\n",
    "    \n",
    "    Attributes:\n",
    "        x, y: Grid coordinates\n",
    "        condition: Can be \"Wet\",\"Dry\"\n",
    "        unique_id: (x,y) tuple. \n",
    "    \n",
    "    unique_id isn't strictly necessary here, but it's good practice to give one to each\n",
    "    agent anyway.\n",
    "    '''\n",
    "    def __init__(self, model, pos):\n",
    "        '''\n",
    "        Create moisture in cell.\n",
    "        Args:\n",
    "            pos: The tree's coordinates on the grid. Used as the unique_id\n",
    "        '''\n",
    "        super().__init__(pos, model)\n",
    "        self.pos = pos\n",
    "        self.unique_id = pos\n",
    "        self.condition = \"Wet\"\n",
    "        \n",
    "    def step(self):\n",
    "        '''\n",
    "        If the tree is dry, spread it to wet trees nearby.\n",
    "        '''\n",
    "        if self.condition == \"Average\":\n",
    "            neighbors = self.model.grid.get_neighbors(self.pos, moore=False)\n",
    "            for neighbor in neighbors:\n",
    "                if neighbor.condition == \"Wet\":\n",
    "                    neighbor.condition = \"Average\"\n",
    "            self.condition = \"Dry\"\n",
    "      "
   ]
  },
  {
   "cell_type": "code",
   "execution_count": 30,
   "metadata": {
    "collapsed": true
   },
   "outputs": [],
   "source": [
    "class BeetleKill(Model):\n",
    "    '''\n",
    "    Simple Beetle Kill model.\n",
    "    '''\n",
    "    def __init__(self, height, width, density):\n",
    "        '''\n",
    "        Create a new forest fire model.\n",
    "        \n",
    "        Args:\n",
    "            height, width: The size of the grid to model\n",
    "            density: What fraction of grid cells have a tree in them.\n",
    "        '''\n",
    "        # Initialize model parameters\n",
    "        self.height = height\n",
    "        self.width = width\n",
    "        self.density = density\n",
    "        \n",
    "        # Set up model objects\n",
    "        self.schedule = RandomActivation(self)\n",
    "        self.grid = Grid(height, width, torus=False)\n",
    "        self.dc = DataCollector({\"Alive\": lambda m: self.count_type(m, \"Alive\"),\n",
    "                                \"Infested\": lambda m: self.count_type(m, \"Infested\"),\n",
    "                                \"Dead\": lambda m: self.count_type(m, \"Dead\")})\n",
    "        \n",
    "        # Place a tree in each cell with Prob = density\n",
    "        for x in range(self.width):\n",
    "            for y in range(self.height):\n",
    "                if random.random() < self.density:\n",
    "                    # Create a tree\n",
    "                    new_tree = TreeCell(self, (x, y))\n",
    "                    # Set all trees in the first column Infested.\n",
    "                    if x == 0:\n",
    "                        new_tree.condition = \"Infested\"\n",
    "                    self.grid[y][x] = new_tree\n",
    "                    self.schedule.add(new_tree)\n",
    "        self.running = True\n",
    "        \n",
    "    def step(self):\n",
    "        '''\n",
    "        Advance the model by one step.\n",
    "        '''\n",
    "        self.schedule.step()\n",
    "        self.dc.collect(self)\n",
    "        # Halt if no more beetle infestation \n",
    "        if self.count_type(self, \"Infested\") == 0:\n",
    "            self.running = False\n",
    "    \n",
    "    @staticmethod\n",
    "    def count_type(model, tree_condition):\n",
    "        '''\n",
    "        Helper method to count trees in a given condition in a given model.\n",
    "        '''\n",
    "        count = 0\n",
    "        for tree in model.schedule.agents:\n",
    "            if tree.condition == tree_condition:\n",
    "                count += 1\n",
    "        return count"
   ]
  },
  {
   "cell_type": "code",
   "execution_count": 31,
   "metadata": {
    "collapsed": false
   },
   "outputs": [
    {
     "data": {
      "text/plain": [
       "<matplotlib.axes._subplots.AxesSubplot at 0x11a71feb8>"
      ]
     },
     "execution_count": 31,
     "metadata": {},
     "output_type": "execute_result"
    },
    {
     "data": {
      "image/png": "[encoded data removed]",
      "text/plain": [
       "<matplotlib.figure.Figure at 0x11a71f630>"
      ]
     },
     "metadata": {},
     "output_type": "display_data"
    }
   ],
   "source": [
    "# Test a medium range tree density - 50%\n",
    "beetle = BeetleKill(100, 100, 0.5)\n",
    "beetle.run_model()\n",
    "results = beetle.dc.get_model_vars_dataframe()\n",
    "results.plot()"
   ]
  },
  {
   "cell_type": "code",
   "execution_count": 32,
   "metadata": {
    "collapsed": false
   },
   "outputs": [
    {
     "data": {
      "text/plain": [
       "<matplotlib.axes._subplots.AxesSubplot at 0x11862c940>"
      ]
     },
     "execution_count": 32,
     "metadata": {},
     "output_type": "execute_result"
    },
    {
     "data": {
      "image/png": "[encoded data removed]",
      "text/plain": [
       "<matplotlib.figure.Figure at 0x11a1d5da0>"
      ]
     },
     "metadata": {},
     "output_type": "display_data"
    }
   ],
   "source": [
    "# Test the impact of more sparse tree density - 20% tree cover\n",
    "beetle = BeetleKill(100, 100, 0.2)\n",
    "beetle.run_model()\n",
    "results = beetle.dc.get_model_vars_dataframe()\n",
    "results.plot()"
   ]
  },
  {
   "cell_type": "code",
   "execution_count": 33,
   "metadata": {
    "collapsed": false
   },
   "outputs": [
    {
     "data": {
      "text/plain": [
       "<matplotlib.axes._subplots.AxesSubplot at 0x119398a90>"
      ]
     },
     "execution_count": 33,
     "metadata": {},
     "output_type": "execute_result"
    },
    {
     "data": {
      "image/png": "[encoded data removed]",
      "text/plain": [
       "<matplotlib.figure.Figure at 0x119398208>"
      ]
     },
     "metadata": {},
     "output_type": "display_data"
    }
   ],
   "source": [
    "# Test the impact of higher tree density - 80% tree cover\n",
    "beetle = BeetleKill(100, 100, 0.8)\n",
    "beetle.run_model()\n",
    "results = beetle.dc.get_model_vars_dataframe()\n",
    "results.plot()"
   ]
  },
  {
   "cell_type": "code",
   "execution_count": 35,
   "metadata": {
    "collapsed": false
   },
   "outputs": [
    {
     "data": {
      "text/plain": [
       "<matplotlib.axes._subplots.AxesSubplot at 0x11ab443c8>"
      ]
     },
     "execution_count": 35,
     "metadata": {},
     "output_type": "execute_result"
    },
    {
     "data": {
      "image/png": "[encoded data removed]",
      "text/plain": [
       "<matplotlib.figure.Figure at 0x11ab3d898>"
      ]
     },
     "metadata": {},
     "output_type": "display_data"
    }
   ],
   "source": [
    "# Test the impact of slightly above half tree density - 60% tree cover\n",
    "beetle = BeetleKill(100, 100, 0.6)\n",
    "beetle.run_model()\n",
    "results = beetle.dc.get_model_vars_dataframe()\n",
    "results.plot()"
   ]
  },
  {
   "cell_type": "code",
   "execution_count": 39,
   "metadata": {
    "collapsed": false
   },
   "outputs": [],
   "source": [
    "param_set = dict(height=50, # Height and width are constant\n",
    "                 width=50,\n",
    "                 # Vary density from 0.01 to 1, in 0.01 increments:\n",
    "                 density=np.linspace(0,1,101)[1:])    "
   ]
  },
  {
   "cell_type": "code",
   "execution_count": 44,
   "metadata": {
    "collapsed": true
   },
   "outputs": [],
   "source": [
    "# At the end of each model run, calculate the fraction of trees which are Dead\n",
    "model_reporter = {\"Dead\": lambda m: (BeetleKill.count_type(m, \"Dead\") / \n",
    "                                          m.schedule.get_agent_count()) }"
   ]
  },
  {
   "cell_type": "code",
   "execution_count": 45,
   "metadata": {
    "collapsed": false
   },
   "outputs": [],
   "source": [
    "\n",
    "# Create the batch runner\n",
    "param_run = BatchRunner(BeetleKill, param_set, model_reporters=model_reporter)"
   ]
  },
  {
   "cell_type": "code",
   "execution_count": 47,
   "metadata": {
    "collapsed": false
   },
   "outputs": [
    {
     "name": "stderr",
     "output_type": "stream",
     "text": [
      "\n",
      "  0%|          | 0/100 [00:00<?, ?it/s]\u001b[A\n",
      " 19%|█▉        | 19/100 [00:00<00:00, 172.76it/s]\u001b[A\n",
      " 28%|██▊       | 28/100 [00:00<00:00, 126.21it/s]\u001b[A\n",
      " 35%|███▌      | 35/100 [00:00<00:00, 99.02it/s] \u001b[A\n",
      " 42%|████▏     | 42/100 [00:00<00:00, 78.57it/s]\u001b[A\n",
      " 48%|████▊     | 48/100 [00:00<00:00, 60.47it/s]\u001b[A\n",
      " 54%|█████▍    | 54/100 [00:01<00:01, 27.81it/s]\u001b[A\n",
      " 59%|█████▉    | 59/100 [00:01<00:03, 13.21it/s]\u001b[A\n",
      " 63%|██████▎   | 63/100 [00:02<00:04,  8.33it/s]\u001b[A\n",
      " 66%|██████▌   | 66/100 [00:03<00:05,  6.64it/s]\u001b[A\n",
      " 68%|██████▊   | 68/100 [00:03<00:05,  6.37it/s]\u001b[A\n",
      " 70%|███████   | 70/100 [00:04<00:05,  5.78it/s]\u001b[A\n",
      " 72%|███████▏  | 72/100 [00:04<00:04,  5.79it/s]\u001b[A\n",
      " 73%|███████▎  | 73/100 [00:04<00:04,  5.88it/s]\u001b[A\n",
      " 74%|███████▍  | 74/100 [00:04<00:04,  5.57it/s]\u001b[A\n",
      " 75%|███████▌  | 75/100 [00:05<00:05,  4.56it/s]\u001b[A\n",
      " 76%|███████▌  | 76/100 [00:05<00:05,  4.58it/s]\u001b[A\n",
      " 77%|███████▋  | 77/100 [00:05<00:04,  4.65it/s]\u001b[A\n",
      " 78%|███████▊  | 78/100 [00:05<00:04,  4.80it/s]\u001b[A\n",
      " 79%|███████▉  | 79/100 [00:06<00:04,  4.69it/s]\u001b[A\n",
      " 80%|████████  | 80/100 [00:06<00:04,  4.73it/s]\u001b[A\n",
      " 81%|████████  | 81/100 [00:06<00:03,  4.89it/s]\u001b[A\n",
      " 82%|████████▏ | 82/100 [00:06<00:03,  4.96it/s]\u001b[A\n",
      " 83%|████████▎ | 83/100 [00:06<00:03,  4.98it/s]\u001b[A\n",
      " 84%|████████▍ | 84/100 [00:07<00:03,  5.22it/s]\u001b[A\n",
      " 85%|████████▌ | 85/100 [00:07<00:02,  5.40it/s]\u001b[A\n",
      " 86%|████████▌ | 86/100 [00:07<00:02,  5.32it/s]\u001b[A\n",
      " 87%|████████▋ | 87/100 [00:07<00:02,  5.46it/s]\u001b[A\n",
      " 88%|████████▊ | 88/100 [00:07<00:02,  5.62it/s]\u001b[A\n",
      " 89%|████████▉ | 89/100 [00:07<00:02,  5.48it/s]\u001b[A\n",
      " 90%|█████████ | 90/100 [00:08<00:02,  4.44it/s]\u001b[A\n",
      " 91%|█████████ | 91/100 [00:08<00:01,  4.57it/s]\u001b[A\n",
      " 92%|█████████▏| 92/100 [00:08<00:01,  4.70it/s]\u001b[A\n",
      " 93%|█████████▎| 93/100 [00:08<00:01,  4.81it/s]\u001b[A\n",
      " 94%|█████████▍| 94/100 [00:09<00:01,  4.87it/s]\u001b[A\n",
      " 95%|█████████▌| 95/100 [00:09<00:01,  4.87it/s]\u001b[A\n",
      " 96%|█████████▌| 96/100 [00:09<00:00,  4.94it/s]\u001b[A\n",
      " 97%|█████████▋| 97/100 [00:09<00:00,  4.94it/s]\u001b[A\n",
      " 98%|█████████▊| 98/100 [00:09<00:00,  4.75it/s]\u001b[A\n",
      " 99%|█████████▉| 99/100 [00:10<00:00,  4.95it/s]\u001b[A\n",
      "100%|██████████| 100/100 [00:10<00:00,  5.03it/s]\u001b[A\n",
      "\u001b[A"
     ]
    }
   ],
   "source": [
    "param_run.run_all()"
   ]
  },
  {
   "cell_type": "code",
   "execution_count": 49,
   "metadata": {
    "collapsed": true
   },
   "outputs": [],
   "source": [
    "\n",
    "df = param_run.get_model_vars_dataframe()"
   ]
  },
  {
   "cell_type": "code",
   "execution_count": 50,
   "metadata": {
    "collapsed": false
   },
   "outputs": [
    {
     "data": {
      "text/html": [
       "<div>\n",
       "<table border=\"1\" class=\"dataframe\">\n",
       "  <thead>\n",
       "    <tr style=\"text-align: right;\">\n",
       "      <th></th>\n",
       "      <th>Dead</th>\n",
       "      <th>Run</th>\n",
       "      <th>density</th>\n",
       "      <th>height</th>\n",
       "      <th>width</th>\n",
       "    </tr>\n",
       "  </thead>\n",
       "  <tbody>\n",
       "    <tr>\n",
       "      <th>0</th>\n",
       "      <td>0.090421</td>\n",
       "      <td>45</td>\n",
       "      <td>0.46</td>\n",
       "      <td>50</td>\n",
       "      <td>50</td>\n",
       "    </tr>\n",
       "    <tr>\n",
       "      <th>1</th>\n",
       "      <td>0.959316</td>\n",
       "      <td>68</td>\n",
       "      <td>0.69</td>\n",
       "      <td>50</td>\n",
       "      <td>50</td>\n",
       "    </tr>\n",
       "    <tr>\n",
       "      <th>2</th>\n",
       "      <td>0.980326</td>\n",
       "      <td>71</td>\n",
       "      <td>0.72</td>\n",
       "      <td>50</td>\n",
       "      <td>50</td>\n",
       "    </tr>\n",
       "    <tr>\n",
       "      <th>3</th>\n",
       "      <td>0.030000</td>\n",
       "      <td>12</td>\n",
       "      <td>0.13</td>\n",
       "      <td>50</td>\n",
       "      <td>50</td>\n",
       "    </tr>\n",
       "    <tr>\n",
       "      <th>4</th>\n",
       "      <td>0.091735</td>\n",
       "      <td>43</td>\n",
       "      <td>0.44</td>\n",
       "      <td>50</td>\n",
       "      <td>50</td>\n",
       "    </tr>\n",
       "  </tbody>\n",
       "</table>\n",
       "</div>"
      ],
      "text/plain": [
       "       Dead  Run  density  height  width\n",
       "0  0.090421   45     0.46      50     50\n",
       "1  0.959316   68     0.69      50     50\n",
       "2  0.980326   71     0.72      50     50\n",
       "3  0.030000   12     0.13      50     50\n",
       "4  0.091735   43     0.44      50     50"
      ]
     },
     "execution_count": 50,
     "metadata": {},
     "output_type": "execute_result"
    }
   ],
   "source": [
    "df.head()\n"
   ]
  },
  {
   "cell_type": "code",
   "execution_count": 52,
   "metadata": {
    "collapsed": false
   },
   "outputs": [
    {
     "data": {
      "text/plain": [
       "(0, 1)"
      ]
     },
     "execution_count": 52,
     "metadata": {},
     "output_type": "execute_result"
    },
    {
     "data": {
      "image/png": "[encoded data removed]",
      "text/plain": [
       "<matplotlib.figure.Figure at 0x11b06c080>"
      ]
     },
     "metadata": {},
     "output_type": "display_data"
    }
   ],
   "source": [
    "plt.scatter(df.density, df.Dead)\n",
    "plt.xlim(0,1)"
   ]
  },
  {
   "cell_type": "code",
   "execution_count": 53,
   "metadata": {
    "collapsed": false
   },
   "outputs": [
    {
     "name": "stderr",
     "output_type": "stream",
     "text": [
      "\n",
      "  0%|          | 0/500 [00:00<?, ?it/s]\u001b[A\n",
      "  7%|▋         | 37/500 [00:00<00:01, 366.19it/s]\u001b[A\n",
      " 12%|█▏        | 62/500 [00:00<00:01, 312.16it/s]\u001b[A\n",
      " 16%|█▌        | 81/500 [00:00<00:01, 256.01it/s]\u001b[A\n",
      " 20%|█▉        | 98/500 [00:00<00:01, 216.07it/s]\u001b[A\n",
      " 23%|██▎       | 114/500 [00:00<00:02, 167.76it/s]\u001b[A\n",
      " 26%|██▌       | 129/500 [00:00<00:02, 141.78it/s]\u001b[A\n",
      " 29%|██▊       | 143/500 [00:00<00:03, 96.69it/s] \u001b[A\n",
      " 31%|███       | 154/500 [00:01<00:05, 68.92it/s]\u001b[A\n",
      " 33%|███▎      | 163/500 [00:01<00:04, 67.69it/s]\u001b[A\n",
      " 34%|███▍      | 172/500 [00:01<00:04, 65.72it/s]\u001b[A\n",
      " 36%|███▌      | 180/500 [00:01<00:05, 62.14it/s]\u001b[A\n",
      " 37%|███▋      | 187/500 [00:01<00:05, 56.83it/s]\u001b[A\n",
      " 39%|███▉      | 194/500 [00:01<00:05, 52.93it/s]\u001b[A\n",
      " 40%|████      | 200/500 [00:02<00:07, 41.91it/s]\u001b[A\n",
      " 41%|████      | 205/500 [00:02<00:07, 41.78it/s]\u001b[A\n",
      " 42%|████▏     | 210/500 [00:02<00:06, 41.61it/s]\u001b[A\n",
      " 43%|████▎     | 215/500 [00:02<00:07, 39.67it/s]\u001b[A\n",
      " 44%|████▍     | 220/500 [00:02<00:07, 37.76it/s]\u001b[A\n",
      " 45%|████▍     | 224/500 [00:02<00:08, 31.77it/s]\u001b[A\n",
      " 46%|████▌     | 228/500 [00:03<00:10, 24.91it/s]\u001b[A\n",
      " 46%|████▌     | 231/500 [00:03<00:11, 23.76it/s]\u001b[A\n",
      " 47%|████▋     | 234/500 [00:03<00:11, 22.32it/s]\u001b[A\n",
      " 47%|████▋     | 237/500 [00:03<00:12, 21.87it/s]\u001b[A\n",
      " 48%|████▊     | 240/500 [00:03<00:11, 22.13it/s]\u001b[A\n",
      " 49%|████▊     | 243/500 [00:03<00:12, 21.30it/s]\u001b[A\n",
      " 49%|████▉     | 246/500 [00:03<00:12, 20.38it/s]\u001b[A\n",
      " 50%|████▉     | 249/500 [00:04<00:11, 20.99it/s]\u001b[A\n",
      " 50%|█████     | 252/500 [00:04<00:12, 20.24it/s]\u001b[A\n",
      " 51%|█████     | 255/500 [00:04<00:17, 14.39it/s]\u001b[A\n",
      " 52%|█████▏    | 258/500 [00:04<00:15, 15.91it/s]\u001b[A\n",
      " 52%|█████▏    | 260/500 [00:04<00:17, 13.78it/s]\u001b[A\n",
      " 53%|█████▎    | 263/500 [00:05<00:15, 15.34it/s]\u001b[A\n",
      " 53%|█████▎    | 265/500 [00:05<00:14, 16.46it/s]\u001b[A\n",
      " 53%|█████▎    | 267/500 [00:05<00:17, 13.27it/s]\u001b[A\n",
      " 54%|█████▍    | 269/500 [00:05<00:17, 13.15it/s]\u001b[A\n",
      " 54%|█████▍    | 271/500 [00:05<00:17, 13.04it/s]\u001b[A\n",
      " 55%|█████▍    | 273/500 [00:05<00:19, 11.55it/s]\u001b[A\n",
      " 55%|█████▌    | 275/500 [00:06<00:19, 11.57it/s]\u001b[A\n",
      " 55%|█████▌    | 277/500 [00:06<00:21, 10.32it/s]\u001b[A\n",
      " 56%|█████▌    | 279/500 [00:06<00:22,  9.68it/s]\u001b[A\n",
      " 56%|█████▌    | 281/500 [00:06<00:23,  9.20it/s]\u001b[A\n",
      " 56%|█████▋    | 282/500 [00:07<00:27,  8.03it/s]\u001b[A\n",
      " 57%|█████▋    | 283/500 [00:07<00:27,  7.89it/s]\u001b[A\n",
      " 57%|█████▋    | 284/500 [00:07<00:28,  7.61it/s]\u001b[A\n",
      " 57%|█████▋    | 285/500 [00:07<00:29,  7.37it/s]\u001b[A\n",
      " 57%|█████▋    | 286/500 [00:07<00:27,  7.81it/s]\u001b[A\n",
      " 57%|█████▋    | 287/500 [00:07<00:31,  6.68it/s]\u001b[A\n",
      " 58%|█████▊    | 288/500 [00:07<00:30,  7.04it/s]\u001b[A\n",
      " 58%|█████▊    | 289/500 [00:08<00:32,  6.42it/s]\u001b[A\n",
      " 58%|█████▊    | 290/500 [00:08<00:42,  4.97it/s]\u001b[A\n",
      " 58%|█████▊    | 291/500 [00:08<00:41,  5.09it/s]\u001b[A\n",
      " 58%|█████▊    | 292/500 [00:08<00:39,  5.21it/s]\u001b[A\n",
      " 59%|█████▊    | 293/500 [00:08<00:42,  4.90it/s]\u001b[A\n",
      " 59%|█████▉    | 294/500 [00:09<00:52,  3.94it/s]\u001b[A\n",
      " 59%|█████▉    | 295/500 [00:09<00:42,  4.79it/s]\u001b[A\n",
      " 59%|█████▉    | 296/500 [00:09<00:46,  4.38it/s]\u001b[A\n",
      " 59%|█████▉    | 297/500 [00:09<00:46,  4.34it/s]\u001b[A\n",
      " 60%|█████▉    | 298/500 [00:10<00:49,  4.04it/s]\u001b[A\n",
      " 60%|██████    | 300/500 [00:10<00:43,  4.62it/s]\u001b[A\n",
      " 60%|██████    | 301/500 [00:10<00:41,  4.77it/s]\u001b[A\n",
      " 60%|██████    | 302/500 [00:10<00:36,  5.37it/s]\u001b[A\n",
      " 61%|██████    | 303/500 [00:11<00:36,  5.35it/s]\u001b[A\n",
      " 61%|██████    | 304/500 [00:11<00:38,  5.03it/s]\u001b[A\n",
      " 61%|██████    | 305/500 [00:11<00:35,  5.50it/s]\u001b[A\n",
      " 61%|██████    | 306/500 [00:11<00:36,  5.29it/s]\u001b[A\n",
      " 61%|██████▏   | 307/500 [00:11<00:37,  5.14it/s]\u001b[A\n",
      " 62%|██████▏   | 308/500 [00:11<00:35,  5.44it/s]\u001b[A\n",
      " 62%|██████▏   | 309/500 [00:12<00:37,  5.15it/s]\u001b[A\n",
      " 62%|██████▏   | 310/500 [00:12<00:37,  5.11it/s]\u001b[A\n",
      " 62%|██████▏   | 311/500 [00:12<00:36,  5.17it/s]\u001b[A\n",
      " 62%|██████▏   | 312/500 [00:12<00:37,  5.08it/s]\u001b[A\n",
      " 63%|██████▎   | 313/500 [00:12<00:35,  5.24it/s]\u001b[A\n",
      " 63%|██████▎   | 314/500 [00:13<00:34,  5.34it/s]\u001b[A\n",
      " 63%|██████▎   | 315/500 [00:13<00:34,  5.33it/s]\u001b[A\n",
      " 63%|██████▎   | 316/500 [00:13<00:34,  5.34it/s]\u001b[A\n",
      " 63%|██████▎   | 317/500 [00:13<00:41,  4.41it/s]\u001b[A\n",
      " 64%|██████▎   | 318/500 [00:14<00:38,  4.69it/s]\u001b[A\n",
      " 64%|██████▍   | 319/500 [00:14<00:38,  4.64it/s]\u001b[A\n",
      " 64%|██████▍   | 320/500 [00:14<00:35,  5.09it/s]\u001b[A\n",
      " 64%|██████▍   | 321/500 [00:14<00:32,  5.46it/s]\u001b[A\n",
      " 64%|██████▍   | 322/500 [00:14<00:30,  5.76it/s]\u001b[A\n",
      " 65%|██████▍   | 323/500 [00:14<00:33,  5.28it/s]\u001b[A\n",
      " 65%|██████▍   | 324/500 [00:15<00:34,  5.14it/s]\u001b[A\n",
      " 65%|██████▌   | 325/500 [00:15<00:33,  5.18it/s]\u001b[A\n",
      " 65%|██████▌   | 326/500 [00:15<00:32,  5.36it/s]\u001b[A\n",
      " 65%|██████▌   | 327/500 [00:15<00:32,  5.29it/s]\u001b[A\n",
      " 66%|██████▌   | 328/500 [00:15<00:33,  5.17it/s]\u001b[A\n",
      " 66%|██████▌   | 329/500 [00:16<00:32,  5.22it/s]\u001b[A\n",
      " 66%|██████▌   | 330/500 [00:16<00:30,  5.51it/s]\u001b[A\n",
      " 66%|██████▌   | 331/500 [00:16<00:31,  5.39it/s]\u001b[A\n",
      " 66%|██████▋   | 332/500 [00:16<00:30,  5.42it/s]\u001b[A\n",
      " 67%|██████▋   | 333/500 [00:16<00:31,  5.38it/s]\u001b[A\n",
      " 67%|██████▋   | 334/500 [00:16<00:29,  5.57it/s]\u001b[A\n",
      " 67%|██████▋   | 335/500 [00:17<00:30,  5.33it/s]\u001b[A\n",
      " 67%|██████▋   | 336/500 [00:17<00:36,  4.54it/s]\u001b[A\n",
      " 67%|██████▋   | 337/500 [00:17<00:34,  4.76it/s]\u001b[A\n",
      " 68%|██████▊   | 338/500 [00:17<00:31,  5.09it/s]\u001b[A\n",
      " 68%|██████▊   | 339/500 [00:18<00:31,  5.03it/s]\u001b[A\n",
      " 68%|██████▊   | 340/500 [00:18<00:32,  4.98it/s]\u001b[A\n",
      " 68%|██████▊   | 341/500 [00:18<00:32,  4.96it/s]\u001b[A\n",
      " 68%|██████▊   | 342/500 [00:18<00:30,  5.16it/s]\u001b[A\n",
      " 69%|██████▊   | 343/500 [00:18<00:30,  5.08it/s]\u001b[A\n",
      " 69%|██████▉   | 344/500 [00:19<00:30,  5.10it/s]\u001b[A\n",
      " 69%|██████▉   | 345/500 [00:19<00:29,  5.27it/s]\u001b[A\n",
      " 69%|██████▉   | 346/500 [00:19<00:28,  5.33it/s]\u001b[A\n",
      " 69%|██████▉   | 347/500 [00:19<00:28,  5.29it/s]\u001b[A\n",
      " 70%|██████▉   | 348/500 [00:19<00:28,  5.37it/s]\u001b[A\n",
      " 70%|██████▉   | 349/500 [00:19<00:27,  5.55it/s]\u001b[A\n",
      " 70%|███████   | 350/500 [00:20<00:28,  5.28it/s]\u001b[A\n",
      " 70%|███████   | 351/500 [00:20<00:28,  5.25it/s]\u001b[A\n",
      " 70%|███████   | 352/500 [00:20<00:28,  5.20it/s]\u001b[A\n",
      " 71%|███████   | 353/500 [00:20<00:27,  5.35it/s]\u001b[A\n",
      " 71%|███████   | 354/500 [00:20<00:31,  4.60it/s]\u001b[A\n",
      " 71%|███████   | 355/500 [00:21<00:29,  4.96it/s]\u001b[A\n",
      " 71%|███████   | 356/500 [00:21<00:27,  5.28it/s]\u001b[A\n",
      " 71%|███████▏  | 357/500 [00:21<00:27,  5.16it/s]\u001b[A\n",
      " 72%|███████▏  | 358/500 [00:21<00:26,  5.26it/s]\u001b[A\n",
      " 72%|███████▏  | 359/500 [00:21<00:25,  5.51it/s]\u001b[A\n",
      " 72%|███████▏  | 360/500 [00:22<00:24,  5.66it/s]\u001b[A\n",
      " 72%|███████▏  | 361/500 [00:22<00:25,  5.54it/s]\u001b[A\n",
      " 72%|███████▏  | 362/500 [00:22<00:24,  5.72it/s]\u001b[A\n",
      " 73%|███████▎  | 363/500 [00:22<00:25,  5.27it/s]\u001b[A\n",
      " 73%|███████▎  | 364/500 [00:22<00:28,  4.84it/s]\u001b[A\n",
      " 73%|███████▎  | 365/500 [00:23<00:29,  4.60it/s]\u001b[A\n",
      " 73%|███████▎  | 366/500 [00:23<00:27,  4.81it/s]\u001b[A\n",
      " 73%|███████▎  | 367/500 [00:23<00:26,  4.96it/s]\u001b[A\n",
      " 74%|███████▎  | 368/500 [00:23<00:25,  5.13it/s]\u001b[A\n",
      " 74%|███████▍  | 369/500 [00:23<00:25,  5.11it/s]\u001b[A\n",
      " 74%|███████▍  | 370/500 [00:24<00:28,  4.52it/s]\u001b[A\n",
      " 74%|███████▍  | 371/500 [00:24<00:27,  4.74it/s]\u001b[A\n",
      " 74%|███████▍  | 372/500 [00:24<00:26,  4.87it/s]\u001b[A\n",
      " 75%|███████▍  | 373/500 [00:24<00:24,  5.19it/s]\u001b[A\n",
      " 75%|███████▍  | 374/500 [00:24<00:24,  5.18it/s]\u001b[A\n",
      " 75%|███████▌  | 375/500 [00:25<00:24,  5.03it/s]\u001b[A\n",
      " 75%|███████▌  | 376/500 [00:25<00:24,  5.02it/s]\u001b[A\n",
      " 75%|███████▌  | 377/500 [00:25<00:24,  4.95it/s]\u001b[A\n",
      " 76%|███████▌  | 378/500 [00:25<00:28,  4.31it/s]\u001b[A\n",
      " 76%|███████▌  | 379/500 [00:26<00:31,  3.90it/s]\u001b[A\n",
      " 76%|███████▌  | 380/500 [00:26<00:31,  3.80it/s]\u001b[A\n",
      " 76%|███████▌  | 381/500 [00:26<00:29,  4.04it/s]\u001b[A\n",
      " 76%|███████▋  | 382/500 [00:26<00:26,  4.38it/s]\u001b[A\n",
      " 77%|███████▋  | 383/500 [00:26<00:27,  4.29it/s]\u001b[A\n",
      " 77%|███████▋  | 384/500 [00:27<00:26,  4.39it/s]\u001b[A\n",
      " 77%|███████▋  | 385/500 [00:27<00:24,  4.64it/s]\u001b[A\n",
      " 77%|███████▋  | 386/500 [00:27<00:24,  4.73it/s]\u001b[A\n",
      " 77%|███████▋  | 387/500 [00:27<00:28,  3.97it/s]\u001b[A\n",
      " 78%|███████▊  | 388/500 [00:28<00:25,  4.39it/s]\u001b[A\n",
      " 78%|███████▊  | 389/500 [00:28<00:24,  4.51it/s]\u001b[A\n",
      " 78%|███████▊  | 390/500 [00:28<00:25,  4.28it/s]\u001b[A\n",
      " 78%|███████▊  | 391/500 [00:28<00:24,  4.40it/s]\u001b[A\n",
      " 78%|███████▊  | 392/500 [00:28<00:23,  4.69it/s]\u001b[A\n",
      " 79%|███████▊  | 393/500 [00:29<00:24,  4.44it/s]\u001b[A\n",
      " 79%|███████▉  | 394/500 [00:29<00:23,  4.60it/s]\u001b[A\n",
      " 79%|███████▉  | 395/500 [00:29<00:22,  4.70it/s]\u001b[A\n",
      " 79%|███████▉  | 396/500 [00:29<00:21,  4.77it/s]\u001b[A\n",
      " 79%|███████▉  | 397/500 [00:30<00:20,  4.94it/s]\u001b[A\n",
      " 80%|███████▉  | 398/500 [00:30<00:19,  5.27it/s]\u001b[A\n",
      " 80%|███████▉  | 399/500 [00:30<00:18,  5.48it/s]\u001b[A\n",
      " 80%|████████  | 400/500 [00:30<00:17,  5.77it/s]\u001b[A\n",
      " 80%|████████  | 401/500 [00:30<00:18,  5.35it/s]\u001b[A\n",
      " 80%|████████  | 402/500 [00:31<00:22,  4.40it/s]\u001b[A\n",
      " 81%|████████  | 403/500 [00:31<00:20,  4.64it/s]\u001b[A\n",
      " 81%|████████  | 404/500 [00:31<00:20,  4.66it/s]\u001b[A\n",
      " 81%|████████  | 405/500 [00:31<00:19,  4.95it/s]\u001b[A\n",
      " 81%|████████  | 406/500 [00:31<00:18,  5.20it/s]\u001b[A\n",
      " 81%|████████▏ | 407/500 [00:31<00:17,  5.30it/s]\u001b[A\n",
      " 82%|████████▏ | 408/500 [00:32<00:16,  5.43it/s]\u001b[A\n",
      " 82%|████████▏ | 409/500 [00:32<00:16,  5.52it/s]\u001b[A\n",
      " 82%|████████▏ | 410/500 [00:32<00:17,  5.15it/s]\u001b[A\n",
      " 82%|████████▏ | 411/500 [00:32<00:17,  5.12it/s]\u001b[A\n",
      " 82%|████████▏ | 412/500 [00:32<00:16,  5.28it/s]\u001b[A\n",
      " 83%|████████▎ | 413/500 [00:33<00:16,  5.41it/s]\u001b[A\n",
      " 83%|████████▎ | 414/500 [00:33<00:16,  5.14it/s]\u001b[A\n",
      " 83%|████████▎ | 415/500 [00:33<00:15,  5.34it/s]\u001b[A\n",
      " 83%|████████▎ | 416/500 [00:33<00:15,  5.51it/s]\u001b[A\n",
      " 83%|████████▎ | 417/500 [00:33<00:17,  4.65it/s]\u001b[A\n",
      " 84%|████████▎ | 418/500 [00:34<00:16,  4.97it/s]\u001b[A\n",
      " 84%|████████▍ | 419/500 [00:34<00:16,  4.78it/s]\u001b[A\n",
      " 84%|████████▍ | 420/500 [00:34<00:16,  4.93it/s]\u001b[A\n",
      " 84%|████████▍ | 421/500 [00:34<00:15,  5.21it/s]\u001b[A\n",
      " 84%|████████▍ | 422/500 [00:34<00:15,  5.10it/s]\u001b[A\n",
      " 85%|████████▍ | 423/500 [00:35<00:15,  5.12it/s]\u001b[A\n",
      " 85%|████████▍ | 424/500 [00:35<00:14,  5.30it/s]\u001b[A\n",
      " 85%|████████▌ | 425/500 [00:35<00:14,  5.31it/s]\u001b[A\n",
      " 85%|████████▌ | 426/500 [00:35<00:13,  5.43it/s]\u001b[A\n",
      " 85%|████████▌ | 427/500 [00:35<00:13,  5.27it/s]\u001b[A\n",
      " 86%|████████▌ | 428/500 [00:36<00:14,  5.08it/s]\u001b[A\n",
      " 86%|████████▌ | 429/500 [00:36<00:13,  5.15it/s]\u001b[A\n",
      " 86%|████████▌ | 430/500 [00:36<00:14,  4.80it/s]\u001b[A\n",
      " 86%|████████▌ | 431/500 [00:36<00:15,  4.41it/s]\u001b[A\n",
      " 86%|████████▋ | 432/500 [00:36<00:15,  4.51it/s]\u001b[A\n",
      " 87%|████████▋ | 433/500 [00:37<00:14,  4.55it/s]\u001b[A\n",
      " 87%|████████▋ | 434/500 [00:37<00:14,  4.65it/s]\u001b[A\n",
      " 87%|████████▋ | 435/500 [00:37<00:13,  4.98it/s]\u001b[A\n",
      " 87%|████████▋ | 436/500 [00:37<00:12,  5.10it/s]\u001b[A\n",
      " 87%|████████▋ | 437/500 [00:37<00:11,  5.25it/s]\u001b[A\n",
      " 88%|████████▊ | 438/500 [00:38<00:11,  5.38it/s]\u001b[A\n",
      " 88%|████████▊ | 439/500 [00:38<00:11,  5.47it/s]\u001b[A\n",
      " 88%|████████▊ | 440/500 [00:38<00:11,  5.40it/s]\u001b[A\n",
      " 88%|████████▊ | 441/500 [00:38<00:11,  5.04it/s]\u001b[A\n",
      " 88%|████████▊ | 442/500 [00:38<00:11,  4.92it/s]\u001b[A\n",
      " 89%|████████▊ | 443/500 [00:39<00:11,  5.12it/s]\u001b[A\n",
      " 89%|████████▉ | 444/500 [00:39<00:11,  4.94it/s]\u001b[A\n",
      " 89%|████████▉ | 445/500 [00:39<00:13,  4.12it/s]\u001b[A\n",
      " 89%|████████▉ | 446/500 [00:39<00:12,  4.45it/s]\u001b[A\n",
      " 89%|████████▉ | 447/500 [00:39<00:11,  4.56it/s]\u001b[A\n",
      " 90%|████████▉ | 448/500 [00:40<00:11,  4.66it/s]\u001b[A\n",
      " 90%|████████▉ | 449/500 [00:40<00:10,  4.91it/s]\u001b[A\n",
      " 90%|█████████ | 450/500 [00:40<00:10,  4.86it/s]\u001b[A\n",
      " 90%|█████████ | 451/500 [00:40<00:09,  4.91it/s]\u001b[A\n",
      " 90%|█████████ | 452/500 [00:41<00:10,  4.68it/s]\u001b[A\n",
      " 91%|█████████ | 453/500 [00:41<00:09,  4.99it/s]\u001b[A\n",
      " 91%|█████████ | 454/500 [00:41<00:09,  5.06it/s]\u001b[A\n",
      " 91%|█████████ | 455/500 [00:41<00:09,  4.75it/s]\u001b[A\n",
      " 91%|█████████ | 456/500 [00:41<00:09,  4.88it/s]\u001b[A\n",
      " 91%|█████████▏| 457/500 [00:41<00:08,  5.05it/s]\u001b[A\n",
      " 92%|█████████▏| 458/500 [00:42<00:07,  5.29it/s]\u001b[A\n",
      " 92%|█████████▏| 459/500 [00:42<00:09,  4.49it/s]\u001b[A\n",
      " 92%|█████████▏| 460/500 [00:42<00:08,  4.79it/s]\u001b[A\n",
      " 92%|█████████▏| 461/500 [00:42<00:07,  4.95it/s]\u001b[A\n",
      " 92%|█████████▏| 462/500 [00:43<00:08,  4.73it/s]\u001b[A\n",
      " 93%|█████████▎| 463/500 [00:43<00:07,  4.69it/s]\u001b[A\n",
      " 93%|█████████▎| 464/500 [00:43<00:07,  4.86it/s]\u001b[A\n",
      " 93%|█████████▎| 465/500 [00:43<00:06,  5.09it/s]\u001b[A\n",
      " 93%|█████████▎| 466/500 [00:43<00:06,  5.18it/s]\u001b[A\n",
      " 93%|█████████▎| 467/500 [00:44<00:06,  5.27it/s]\u001b[A\n",
      " 94%|█████████▎| 468/500 [00:44<00:05,  5.36it/s]\u001b[A\n",
      " 94%|█████████▍| 469/500 [00:44<00:06,  4.97it/s]\u001b[A\n",
      " 94%|█████████▍| 470/500 [00:44<00:05,  5.00it/s]\u001b[A\n",
      " 94%|█████████▍| 471/500 [00:44<00:05,  5.08it/s]\u001b[A\n",
      " 94%|█████████▍| 472/500 [00:45<00:06,  4.24it/s]\u001b[A\n",
      " 95%|█████████▍| 473/500 [00:45<00:06,  4.29it/s]\u001b[A\n",
      " 95%|█████████▍| 474/500 [00:45<00:06,  4.18it/s]\u001b[A\n",
      " 95%|█████████▌| 475/500 [00:45<00:05,  4.23it/s]\u001b[A\n",
      " 95%|█████████▌| 476/500 [00:46<00:05,  4.54it/s]\u001b[A\n",
      " 95%|█████████▌| 477/500 [00:46<00:05,  4.13it/s]\u001b[A\n",
      " 96%|█████████▌| 478/500 [00:46<00:04,  4.44it/s]\u001b[A\n",
      " 96%|█████████▌| 479/500 [00:46<00:04,  4.54it/s]\u001b[A\n",
      " 96%|█████████▌| 480/500 [00:46<00:04,  4.71it/s]\u001b[A\n",
      " 96%|█████████▌| 481/500 [00:47<00:04,  4.65it/s]\u001b[A\n",
      " 96%|█████████▋| 482/500 [00:47<00:04,  4.48it/s]\u001b[A\n",
      " 97%|█████████▋| 483/500 [00:47<00:03,  4.68it/s]\u001b[A\n",
      " 97%|█████████▋| 484/500 [00:47<00:03,  4.20it/s]\u001b[A\n",
      " 97%|█████████▋| 485/500 [00:48<00:03,  3.91it/s]\u001b[A\n",
      " 97%|█████████▋| 486/500 [00:48<00:03,  4.29it/s]\u001b[A\n",
      " 97%|█████████▋| 487/500 [00:48<00:02,  4.50it/s]\u001b[A\n",
      " 98%|█████████▊| 488/500 [00:48<00:02,  4.66it/s]\u001b[A\n",
      " 98%|█████████▊| 489/500 [00:48<00:02,  4.86it/s]\u001b[A\n",
      " 98%|█████████▊| 490/500 [00:49<00:02,  4.95it/s]\u001b[A\n",
      " 98%|█████████▊| 491/500 [00:49<00:02,  4.10it/s]\u001b[A\n",
      " 98%|█████████▊| 492/500 [00:49<00:01,  4.24it/s]\u001b[A\n",
      " 99%|█████████▊| 493/500 [00:49<00:01,  3.95it/s]\u001b[A\n",
      " 99%|█████████▉| 494/500 [00:50<00:01,  4.29it/s]\u001b[A\n",
      " 99%|█████████▉| 495/500 [00:50<00:01,  4.53it/s]\u001b[A\n",
      " 99%|█████████▉| 496/500 [00:50<00:00,  4.59it/s]\u001b[A\n",
      " 99%|█████████▉| 497/500 [00:50<00:00,  4.06it/s]\u001b[A\n",
      "100%|█████████▉| 498/500 [00:51<00:00,  4.12it/s]\u001b[A\n",
      "100%|█████████▉| 499/500 [00:51<00:00,  4.02it/s]\u001b[A\n",
      "100%|██████████| 500/500 [00:51<00:00,  4.15it/s]\u001b[A\n",
      "\u001b[A"
     ]
    },
    {
     "data": {
      "text/plain": [
       "(0, 1)"
      ]
     },
     "execution_count": 53,
     "metadata": {},
     "output_type": "execute_result"
    },
    {
     "data": {
      "image/png": "[encoded data removed]",
      "text/plain": [
       "<matplotlib.figure.Figure at 0x11a70a080>"
      ]
     },
     "metadata": {},
     "output_type": "display_data"
    }
   ],
   "source": [
    "param_run = BatchRunner(BeetleKill, param_set, iterations=5, model_reporters=model_reporter)\n",
    "param_run.run_all()\n",
    "df = param_run.get_model_vars_dataframe()\n",
    "plt.scatter(df.density, df.Dead)\n",
    "plt.xlim(0,1)"
   ]
  }
 ],
 "metadata": {
  "anaconda-cloud": {},
  "kernelspec": {
   "display_name": "Python [Root]",
   "language": "python",
   "name": "Python [Root]"
  },
  "language_info": {
   "codemirror_mode": {
    "name": "ipython",
    "version": 3
   },
   "file_extension": ".py",
   "mimetype": "text/x-python",
   "name": "python",
   "nbconvert_exporter": "python",
   "pygments_lexer": "ipython3",
   "version": "3.5.2"
  }
 },
 "nbformat": 4,
 "nbformat_minor": 0
}
